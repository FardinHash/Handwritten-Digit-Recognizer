{
  "nbformat": 4,
  "nbformat_minor": 0,
  "metadata": {
    "colab": {
      "name": "Digit Recognize.ipynb",
      "provenance": []
    },
    "kernelspec": {
      "name": "python3",
      "display_name": "Python 3"
    },
    "language_info": {
      "name": "python"
    }
  },
  "cells": [
    {
      "cell_type": "code",
      "source": [
        "#import dependencies\n",
        "\n",
        "import tensorflow as tf\n",
        "from tensorflow import keras\n",
        "\n",
        "from tensorflow.keras.datasets import mnist\n",
        "from tensorflow.keras.models import Sequential\n",
        "from tensorflow.keras.layers import Dense\n",
        "from tensorflow.keras.utils import to_categorical\n",
        "\n",
        "from sklearn.metrics import accuracy_score"
      ],
      "metadata": {
        "id": "ygIfYeG4PIk9"
      },
      "execution_count": 102,
      "outputs": []
    },
    {
      "cell_type": "code",
      "source": [
        "#load the data\n",
        "(X_train, y_train), (X_test, y_test)= mnist.load_data()"
      ],
      "metadata": {
        "id": "sL_PAFMXUcv4"
      },
      "execution_count": 75,
      "outputs": []
    },
    {
      "cell_type": "code",
      "source": [
        "num_pixels = X_train.shape[1] * X_train.shape[2]\n",
        "X_train = X_train.reshape((X_train.shape[0], num_pixels)).astype('float32')\n",
        "X_test = X_test.reshape((X_test.shape[0], num_pixels)).astype('float32')\n",
        "\n",
        "X_train = X_train / 255\n",
        "X_test = X_test / 255"
      ],
      "metadata": {
        "id": "7bv25r3mUkUW"
      },
      "execution_count": 76,
      "outputs": []
    },
    {
      "cell_type": "code",
      "source": [
        "y_train = to_categorical(y_train)\n",
        "y_test = to_categorical(y_test)\n",
        "num_classes = y_test.shape[1]"
      ],
      "metadata": {
        "id": "7Zcy3MiTUvae"
      },
      "execution_count": 77,
      "outputs": []
    },
    {
      "cell_type": "code",
      "source": [
        "#model create\n",
        "\n",
        "def digit_model():\n",
        "\tmodel = Sequential()\n",
        "\tmodel.add(Dense(num_pixels, input_shape=(num_pixels,), kernel_initializer='normal', activation='relu'))\n",
        "\tmodel.add(Dense(num_classes, kernel_initializer='normal', activation='softmax'))\n",
        "\n",
        "\tmodel.compile(loss='categorical_crossentropy', optimizer='adam', metrics=['accuracy'])\n",
        "\treturn model"
      ],
      "metadata": {
        "id": "P76BpsfJUyxz"
      },
      "execution_count": 85,
      "outputs": []
    },
    {
      "cell_type": "code",
      "source": [
        "model= digit_model()"
      ],
      "metadata": {
        "id": "0T9_wDfxVMzC"
      },
      "execution_count": 83,
      "outputs": []
    },
    {
      "cell_type": "code",
      "source": [
        "#fit the model\n",
        "fitted= model.fit(X_train, y_train, epochs=10, batch_size=200)"
      ],
      "metadata": {
        "colab": {
          "base_uri": "https://localhost:8080/"
        },
        "id": "yqnG8KooVVHL",
        "outputId": "73846793-ac03-48be-b584-1daf584071f8"
      },
      "execution_count": 106,
      "outputs": [
        {
          "output_type": "stream",
          "name": "stdout",
          "text": [
            "Epoch 1/10\n",
            "300/300 [==============================] - 5s 17ms/step - loss: 1.7045e-04 - accuracy: 1.0000\n",
            "Epoch 2/10\n",
            "300/300 [==============================] - 5s 17ms/step - loss: 1.4621e-04 - accuracy: 1.0000\n",
            "Epoch 3/10\n",
            "300/300 [==============================] - 5s 16ms/step - loss: 1.3656e-04 - accuracy: 1.0000\n",
            "Epoch 4/10\n",
            "300/300 [==============================] - 5s 16ms/step - loss: 1.2095e-04 - accuracy: 1.0000\n",
            "Epoch 5/10\n",
            "300/300 [==============================] - 5s 16ms/step - loss: 1.0013e-04 - accuracy: 1.0000\n",
            "Epoch 6/10\n",
            "300/300 [==============================] - 5s 16ms/step - loss: 9.3809e-05 - accuracy: 1.0000\n",
            "Epoch 7/10\n",
            "300/300 [==============================] - 5s 16ms/step - loss: 0.0291 - accuracy: 0.9911\n",
            "Epoch 8/10\n",
            "300/300 [==============================] - 5s 16ms/step - loss: 0.0076 - accuracy: 0.9977\n",
            "Epoch 9/10\n",
            "300/300 [==============================] - 5s 16ms/step - loss: 0.0016 - accuracy: 0.9997\n",
            "Epoch 10/10\n",
            "300/300 [==============================] - 5s 16ms/step - loss: 3.9611e-04 - accuracy: 1.0000\n"
          ]
        }
      ]
    },
    {
      "cell_type": "code",
      "source": [
        "#evaluate the model\n",
        "scores= model.evaluate(X_test, y_test)"
      ],
      "metadata": {
        "colab": {
          "base_uri": "https://localhost:8080/"
        },
        "id": "IUiJ_sotVw1Q",
        "outputId": "596f3306-587c-4531-ee3a-e76ffb9fe250"
      },
      "execution_count": 108,
      "outputs": [
        {
          "output_type": "stream",
          "name": "stdout",
          "text": [
            "313/313 [==============================] - 2s 5ms/step - loss: 0.0700 - accuracy: 0.9835\n"
          ]
        }
      ]
    },
    {
      "cell_type": "code",
      "source": [
        "model.save('mnist.h5')\n",
        "print(\"Saved!!\")"
      ],
      "metadata": {
        "colab": {
          "base_uri": "https://localhost:8080/"
        },
        "id": "j_TsdAnAWjnw",
        "outputId": "1bd8191a-5e7e-4acd-e360-d66da74671d3"
      },
      "execution_count": 92,
      "outputs": [
        {
          "output_type": "stream",
          "name": "stdout",
          "text": [
            "Saved!!\n"
          ]
        }
      ]
    }
  ]
}